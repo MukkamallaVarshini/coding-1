{
  "nbformat": 4,
  "nbformat_minor": 0,
  "metadata": {
    "colab": {
      "provenance": [],
      "authorship_tag": "ABX9TyN41SpqruTwZ2n7ACt2rVp6"
    },
    "kernelspec": {
      "name": "python3",
      "display_name": "Python 3"
    },
    "language_info": {
      "name": "python"
    }
  },
  "cells": [
    {
      "cell_type": "code",
      "execution_count": 5,
      "metadata": {
        "colab": {
          "base_uri": "https://localhost:8080/"
        },
        "id": "ZdSRl4XUH67r",
        "outputId": "960e3079-9baf-40e1-c525-3b46b27956e4"
      },
      "outputs": [
        {
          "output_type": "stream",
          "name": "stdout",
          "text": [
            "[15, 13, 11, 16, 10]\n",
            "[10, 11, 13, 15, 16]\n"
          ]
        }
      ],
      "source": [
        "\n",
        "# select 1st position\n",
        "\n",
        "\n",
        "def sel(l,len):\n",
        "  for i in range(len-1):\n",
        "    for j in range(i+1,len):\n",
        "      if l[i]>l[j]:\n",
        "        l[i],l[j]=l[j],l[i]\n",
        "l=[15,13,11,16,10]\n",
        "print(l)\n",
        "sel(l,len(l))\n",
        "print(l)"
      ]
    },
    {
      "cell_type": "code",
      "source": [
        "# select last position\n",
        "\n",
        "\n",
        "def sel(l,len):\n",
        "  for i in range(len-1,-1,-1):\n",
        "    for j in range(i-1,-1,-1):\n",
        "      if l[i]>l[j]:\n",
        "        l[i],l[j]=l[j],l[i]\n",
        "l=[15,13,11,16,10]\n",
        "print(l)\n",
        "sel(l,len(l))\n",
        "print(l)"
      ],
      "metadata": {
        "colab": {
          "base_uri": "https://localhost:8080/"
        },
        "id": "xtgFcl7vJBiG",
        "outputId": "268bf678-5e68-42a0-fc53-aee5eebd5b9a"
      },
      "execution_count": 10,
      "outputs": [
        {
          "output_type": "stream",
          "name": "stdout",
          "text": [
            "[15, 13, 11, 16, 10]\n",
            "[16, 15, 13, 11, 10]\n"
          ]
        }
      ]
    },
    {
      "cell_type": "code",
      "source": [
        "\n",
        ""
      ],
      "metadata": {
        "id": "DQK2YwEyKLUY"
      },
      "execution_count": null,
      "outputs": []
    }
  ]
}